{
 "cells": [
  {
   "cell_type": "markdown",
   "metadata": {},
   "source": [
    "Week3 성적표 관리 \n",
    "-조건 1) Age 와 Scores은 integer로 인식\n",
    "-조건 2) find 명령 추가\n",
    "-조건 3) inc 명령 추가\n",
    "-조건 4) del 명령 수정\n",
    "-조건 5) Error 처리 최대(try - except - else 사용)"
   ]
  },
  {
   "cell_type": "markdown",
   "metadata": {},
   "source": [
    "1) Age 와 Scores은 integer로 인식"
   ]
  },
  {
   "cell_type": "code",
   "execution_count": null,
   "metadata": {
    "collapsed": true
   },
   "outputs": [],
   "source": [
    " for p in scdb :\n",
    "       p['Age']=int(p['Age'])\n",
    "       p['Score']=int(p['Score'])"
   ]
  },
  {
   "cell_type": "markdown",
   "metadata": {},
   "source": [
    "2) find 명령 추가"
   ]
  },
  {
   "cell_type": "code",
   "execution_count": null,
   "metadata": {
    "collapsed": true
   },
   "outputs": [],
   "source": [
    "elif parse[0].lower() == 'find':\n",
    "           check_find = False\n",
    "           for p in scdb:\n",
    "               if p['Name'].lower() == parse[1].lower():\n",
    "                   print(p)\n",
    "                   check_find = True\n",
    "           if not(check_find):\n",
    "               print(\"No matching name\")"
   ]
  },
  {
   "cell_type": "markdown",
   "metadata": {},
   "source": [
    "3) inc 명령 추가"
   ]
  },
  {
   "cell_type": "code",
   "execution_count": null,
   "metadata": {
    "collapsed": true
   },
   "outputs": [],
   "source": [
    "elif parse[0].lower() == 'inc':\n",
    "    check_inc = False \n",
    "       for p in scdb:\n",
    "            if p['Name'].lower() == parse[1].lower():\n",
    "               p['Score'] += int(parse[2])\n",
    "               check_inc = True \n",
    "           if not(check_inc):\n",
    "               print(\"No matching name\") "
   ]
  },
  {
   "cell_type": "markdown",
   "metadata": {},
   "source": [
    "4) del 명령 수정"
   ]
  },
  {
   "cell_type": "code",
   "execution_count": null,
   "metadata": {
    "collapsed": true
   },
   "outputs": [],
   "source": [
    "elif parse[0] == 'del':\n",
    "    check_find = false\n",
    "    for p in scdb:\n",
    "        if p['Name'].lower() == parse[1].lower():\n",
    "            print (p)\n",
    "            check_find = True\n",
    "        if not (check_find):\n",
    "            print(\"No matching name\")"
   ]
  },
  {
   "cell_type": "markdown",
   "metadata": {},
   "source": [
    "5) Error 처리 최대"
   ]
  },
  {
   "cell_type": "markdown",
   "metadata": {},
   "source": [
    "-lower 처리를 하여 대문자 소문자 상관없이 입력가능\n",
    "-for 문을 사용하여 매칭이 안되는 경우 안된다고 프린트함"
   ]
  }
 ],
 "metadata": {
  "kernelspec": {
   "display_name": "Python 3",
   "language": "python",
   "name": "python3"
  },
  "language_info": {
   "codemirror_mode": {
    "name": "ipython",
    "version": 3
   },
   "file_extension": ".py",
   "mimetype": "text/x-python",
   "name": "python",
   "nbconvert_exporter": "python",
   "pygments_lexer": "ipython3",
   "version": "3.6.1"
  }
 },
 "nbformat": 4,
 "nbformat_minor": 2
}
