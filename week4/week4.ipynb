{
 "cells": [
  {
   "cell_type": "markdown",
   "metadata": {},
   "source": [
    "Week4 조합 구하기\n",
    "1) factorial을 이용하여 조합구하기 \n",
    "2) factorial을 이용하지 않고 조합구하기"
   ]
  },
  {
   "cell_type": "markdown",
   "metadata": {},
   "source": [
    "1) factorial 이용"
   ]
  },
  {
   "cell_type": "markdown",
   "metadata": {},
   "source": [
    "내가 처음 작성 한 코드 \n",
    "- 함수를 많이 쓰고 간결하지 못함(return 하는 값이 많음)\n",
    "- n 과 r 의 크기를 예외처리 하지 않음"
   ]
  },
  {
   "cell_type": "code",
   "execution_count": null,
   "metadata": {
    "collapsed": true
   },
   "outputs": [],
   "source": [
    "def fact(n):\n",
    "    while n == 0:\n",
    "        return 1\n",
    "    return n *fact(n-1)\n",
    "def fac(x):\n",
    "    while x ==0:\n",
    "        return 1\n",
    "    return x * fac(x-1)\n",
    "def fa(y):\n",
    "    while y == 0:\n",
    "        return 1\n",
    "    return y *fac(y-1)\n",
    "\n",
    "a = int(input(\"더 큰 수를 입력하시오.\"))\n",
    "b = int(input(\"더 작은 수를 입력하시오.\"))\n",
    "c = a-b\n",
    "d  = fac(b)\n",
    "e = fa(c)\n",
    "f = d*e\n",
    "print (fact(a)/f)"
   ]
  },
  {
   "cell_type": "markdown",
   "metadata": {},
   "source": [
    "조별토론 이후 작성한 코드\n",
    "- 함수가 더 적어 리턴하는 값이 많이 없음\n",
    "- 재귀함수를 이용하여 코드 간결"
   ]
  },
  {
   "cell_type": "code",
   "execution_count": null,
   "metadata": {
    "collapsed": true
   },
   "outputs": [],
   "source": [
    "def fact(n) :\n",
    "      if n == 0 :\n",
    "            return 1\n",
    "      else :\n",
    "            return n * fact(n - 1)\n",
    "\n",
    "def combi(n, r) :\n",
    "      return fact(n) / (fact(r) * fact(n-r))\n",
    "\n",
    "n =int(input(\"input first number:\"))\n",
    "r = int(input(\"input second number:\"))\n",
    "while n <r:\n",
    "    print(\"다시입력해주세요\")\n",
    "    n =int(input(\"input first number:\"))\n",
    "    r = int(input(\"input second number:\"))\n",
    "print (combi(n, r))"
   ]
  },
  {
   "cell_type": "markdown",
   "metadata": {},
   "source": [
    "2) factorial을 이용하지 않은 함수"
   ]
  },
  {
   "cell_type": "markdown",
   "metadata": {},
   "source": [
    "조별토론 이후 작성한 코드\n",
    "- 조합의 특성을 알고 재귀함수를 이용하여 작성함 "
   ]
  },
  {
   "cell_type": "code",
   "execution_count": null,
   "metadata": {
    "collapsed": true
   },
   "outputs": [],
   "source": [
    "def combi(n,r):\n",
    "      if r == 0:\n",
    "            return 1\n",
    "      elif n < r:\n",
    "            return 0\n",
    "      else:\n",
    "            return combi(n-1, r-1) + combi(n-1, r)\n",
    "while True:\n",
    "    n = int(input(\"첫번째 수를 입력 또는 -1을 입력하면 종료: \"))\n",
    "    if n == -1:\n",
    "        break\n",
    "    r = int(input(\"두번째 수를 입력:\" ))\n",
    "    if n <= 0 and r < 0:\n",
    "        continue\n",
    "    print(int(combi(n,r)))"
   ]
  },
  {
   "cell_type": "markdown",
   "metadata": {},
   "source": [
    "1번과 2번을 시간을 재서 비교한 결과 "
   ]
  },
  {
   "cell_type": "markdown",
   "metadata": {},
   "source": [
    "첫번째 수를 입력 또는 -1을 입력하면 종료:100\n",
    "두번째 수 입력: 50\n",
    "#값\n",
    "100891344545564202071714955264\n",
    "#factorial use\n",
    "combi time :  0.0189790726 \n",
    "100891344545564202071714955264\n",
    "#no factorial\n",
    "combi2 time :  0.0000021458\n",
    "\n",
    "## 팩토리얼을 이용하지 않은 함수가 더 빠른 것을 알 수 있었다!"
   ]
  }
 ],
 "metadata": {
  "kernelspec": {
   "display_name": "Python 3",
   "language": "python",
   "name": "python3"
  },
  "language_info": {
   "codemirror_mode": {
    "name": "ipython",
    "version": 3
   },
   "file_extension": ".py",
   "mimetype": "text/x-python",
   "name": "python",
   "nbconvert_exporter": "python",
   "pygments_lexer": "ipython3",
   "version": "3.6.1"
  }
 },
 "nbformat": 4,
 "nbformat_minor": 2
}
