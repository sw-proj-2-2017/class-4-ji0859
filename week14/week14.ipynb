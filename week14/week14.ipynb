{
 "cells": [
  {
   "cell_type": "markdown",
   "metadata": {},
   "source": [
    "# 14 week\n",
    "\n",
    ">> displayCurrent() displayGuessed()의 테스트 케이스 완성\n"
   ]
  },
  {
   "cell_type": "code",
   "execution_count": null,
   "metadata": {
    "collapsed": true
   },
   "outputs": [],
   "source": [
    "# 처음 코드\n",
    "\n",
    "    def testDisplayCurrent(self):\n",
    "        self.assertEqual(self.g1.displayCurrent(), '_ e _ _ _ _ _ ')\n",
    "        self.g1.guess('a')\n",
    "        self.assertEqual(self.g1.displayCurrent(), '_ e _ a _ _ _ ')\n",
    "        self.g1.guess('t')\n",
    "        self.assertEqual(self.g1.displayCurrent(), '_ e _ a _ _ t ')\n",
    "        self.g1.guess('z')\n",
    "        print(\"z is nonexist\")\n",
    "        self.assertEqual(self.g1.displayCurrent(), '_ e _ a _ _ t ')\n",
    "        self.g1.guess('1') # 숫자를 입력할경우 해결해야함\n",
    "        print(\"input string, this is number\")\n",
    "        self.assertEqual(self.g1.displayCurrent(), '_ e _ a _ _ t ')\n",
    "        self.g1.guess('u')\n",
    "        self.assertEqual(self.g1.displayCurrent(), '_ e _ a u _ t ')\n",
    "        self.g1.guess(\"id\")\n",
    "        print(\"One character at a time\")\n",
    "        self.assertEqual(self.g1.displayCurrent(), '_ e _ a u _ t ')\n",
    "        #이 부분은 내가 잘못 쓴 부분이다 원래 저런 케이스는 오류가 뜨기 때문에 테스트케이스에서 관리 할 필요가 없다.\n",
    "        #self.g1.guess(\"d\")\n",
    "        #self.assertEqual(self.g1.displayCurrent(), 'd e f a u l t ')\n",
    "        self.g1.guess(\"l\")\n",
    "        self.assertEqual(self.g1.displayCurrent(), '_ e _ a u l t ')\n",
    "        self.g1.guess(\"f\")\n",
    "        self.assertEqual(self.g1.displayCurrent(), '_ e f a u l t ')\n",
    "        self.g1.guess(\"d\")\n",
    "        self.assertEqual(self.g1.displayCurrent(), 'd e f a u l t ' )\n",
    "\n",
    "    def testDisplayGuessed(self):\n",
    "        self.assertEqual(self.g1.displayGuessed(), ' e n ')\n",
    "        self.g1.guess('a')\n",
    "        self.assertEqual(self.g1.displayGuessed(), ' a e n ')\n",
    "        self.g1.guess('t')\n",
    "        self.assertEqual(self.g1.displayGuessed(), ' a e n t ')\n",
    "        self.g1.guess('z')\n",
    "        self.assertEqual(self.g1.displayGuessed(), ' a e n t z ')\n",
    "        self.g1.guess('u')\n",
    "        self.assertEqual(self.g1.displayGuessed(), ' a e n t u z ')\n",
    "        self.g1.guess('a')\n",
    "        print(\"already guess\")\n",
    "        self.assertEqual(self.g1.displayGuessed(), ' a e n t u z ')"
   ]
  },
  {
   "cell_type": "markdown",
   "metadata": {},
   "source": [
    "조별토론 이후 \n",
    ">> 한글이나 숫자 두개의 문자를 넣었을 경우에 대한 testDisplayGuessed()를 좀 더 구현해야 겠다고 생각 -> 또한 guess 도 수정해야함\n",
    ">> 또한 그냥 게임을 실행했을 경우 숫자 한글 두개의 문자에 대한 예외처리를 해야함"
   ]
  },
  {
   "cell_type": "code",
   "execution_count": null,
   "metadata": {
    "collapsed": true
   },
   "outputs": [],
   "source": [
    "# game 에서의 숫자 한글 두개의 문자 등 예외처리\n",
    "\n",
    "def gameMain():\n",
    "    word = Word('words.txt')\n",
    "    guess = Guess(word.randFromDB())\n",
    "    hangman = Hangman()\n",
    "\n",
    "    while hangman.remainingLives > 0:\n",
    "\n",
    "        display = hangman.currentShape()\n",
    "        print(display)\n",
    "        display = guess.displayCurrent()\n",
    "        print('Current: ' + display)\n",
    "        display = guess.displayGuessed()\n",
    "        print('Already Used: ' + display)\n",
    "\n",
    "        guessedChar = input('Select a letter: ')\n",
    "        if len(guessedChar) != 1:\n",
    "            print('One character at a time!')\n",
    "            continue\n",
    "        if guessedChar in guess.guessedChars:\n",
    "            print('You already guessed \\\"' + guessedChar + '\\\"')\n",
    "            continue\n",
    "        # 추가적으로 구현한 부분 ord 를 이용하여 걸러줌\n",
    "        if not (ord(guessedChar) >= 97 and ord(guessedChar) <= 122):\n",
    "            print('Enter the Alphabet only!')\n",
    "            continue\n",
    "\n",
    "        success = guess.guess(guessedChar)\n",
    "        if success == False:\n",
    "            print(\"\")\n",
    "            print(\"remaining lives:\" ,hangman.decreaseLife())\n",
    "        \n",
    "        if guess.finished():\n",
    "            break\n",
    "\n",
    "    if guess.finished() == True:\n",
    "        print('**** ' + guess.displayCurrent() + ' ****')\n",
    "        print('Success')\n",
    "    else:\n",
    "        print(hangman.currentShape())\n",
    "        print('word [' + guess.secretWord + ']')\n",
    "        print('guess [' + guess.displayCurrent() + ']')\n",
    "        print('Fail')"
   ]
  },
  {
   "cell_type": "markdown",
   "metadata": {},
   "source": [
    "+ testcase 추가 \n",
    "+ testhangman 추가"
   ]
  },
  {
   "cell_type": "code",
   "execution_count": null,
   "metadata": {
    "collapsed": true
   },
   "outputs": [],
   "source": [
    "# testhangman\n",
    "\n",
    "import unittest\n",
    "from hangman import Hangman\n",
    "\n",
    "class TestHangman(unittest.TestCase):\n",
    "\n",
    "    def setUp(self):\n",
    "        self.h1 = Hangman()\n",
    "\n",
    "    def tearDown(self):\n",
    "        pass\n",
    "\n",
    "    def testCurrentShape(self):\n",
    "        self.assertEqual(self.h1.currentShape(), \n",
    "'''\\\n",
    "   ____\n",
    "  |    |\n",
    "  |\n",
    "  |\n",
    "  |\n",
    "  |\n",
    " _|_\n",
    "|   |______\n",
    "|          |\n",
    "|__________|\\\n",
    "''')\n",
    "        self.h1.decreaseLife()\n",
    "        self.assertEqual(self.h1.currentShape(),\n",
    "'''\\\n",
    "   ____\n",
    "  |    |\n",
    "  |    o\n",
    "  |\n",
    "  |\n",
    "  |\n",
    " _|_\n",
    "|   |______\n",
    "|          |\n",
    "|__________|\\\n",
    "''')\n",
    "\n",
    "if __name__ == '__main__':\n",
    "    unittest.main()"
   ]
  },
  {
   "cell_type": "markdown",
   "metadata": {},
   "source": [
    "#testcase\n",
    "def testDisplayCurrent(self):\n",
    "        앞의 내용과 같음\n",
    "    \n",
    "def testDisplayGuessed(self):\n",
    "        추가적으로 구현!\n",
    "        self.assertEqual(self.g1.displayGuessed(), ' a e n t u z ')\n",
    "        self.g1.guess('1')\n",
    "        self.assertEqual(self.g1.displayGuessed(), ' 1 a e n t u z ')\n",
    "        self.g1.guess(' ')\n",
    "        self.assertEqual(self.g1.displayGuessed(), '   1 a e n t u z ')\n",
    "        self.g1.guess('ad')\n",
    "        self.assertEqual(self.g1.displayGuessed(), '   1 a ad e n t u z ')\n",
    "        self.g1.guess(\"ㅋ\")\n",
    "        self.assertEqual(self.g1.displayGuessed(), '   1 a ad e n t u z ㅋ ')"
   ]
  }
 ],
 "metadata": {
  "kernelspec": {
   "display_name": "Python 3",
   "language": "python",
   "name": "python3"
  },
  "language_info": {
   "codemirror_mode": {
    "name": "ipython",
    "version": 3
   },
   "file_extension": ".py",
   "mimetype": "text/x-python",
   "name": "python",
   "nbconvert_exporter": "python",
   "pygments_lexer": "ipython3",
   "version": "3.6.1"
  }
 },
 "nbformat": 4,
 "nbformat_minor": 2
}
