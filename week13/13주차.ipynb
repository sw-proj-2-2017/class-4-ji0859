{
 "cells": [
  {
   "cell_type": "markdown",
   "metadata": {},
   "source": [
    "# 13주차 숙제\n",
    " hangman game \n",
    " 1. 비밀로 선택된 단어를 인자로 받아 기록\n",
    " 2. 추측에 이용한 글자들의 집합을 빈 집합으로 초기화\n",
    " 3. 실패한 추측의 횟수를 기록"
   ]
  },
  {
   "cell_type": "code",
   "execution_count": null,
   "metadata": {
    "collapsed": true
   },
   "outputs": [],
   "source": [
    "# 조별토론 전 코드\n",
    "class Guess:\n",
    "\n",
    "    def __init__(self, word):\n",
    "        self.word = word\n",
    "        self.guessedChars = []\n",
    "        self.numTries = 0\n",
    "        self.tries = 0 # total tries\n",
    "\n",
    "        self.sentence = [\"_\"]*len(self.word)\n",
    "        self.currentStatus = \"_\"*len(self.word) # ['_','_'] 이렇게 안보이기 위해\n",
    "\n",
    "\n",
    "    def display(self):\n",
    "        print(\"Current :\", self.currentStatus)\n",
    "        print(\"Fail Tries: \", self.numTries)\n",
    "        print(\"Total Tries:\", self.tries)\n",
    "\n",
    "    def guess(self, character):\n",
    "        check = 0\n",
    "        self.currentStatus = \"\"\n",
    "        self.guessedChars.append(character)\n",
    "\n",
    "        for i in range(len(self.word)):\n",
    "            if self.word[i] == character:\n",
    "                check += 1\n",
    "                self.sentence[i] = character\n",
    "            self.currentStatus += self.sentence[i]\n",
    "\n",
    "        if check == 0:\n",
    "            self.numTries += 1\n",
    "            self.tries += 1\n",
    "        else:\n",
    "            self.tries +=1\n",
    "\n",
    "        if self.word == self.currentStatus:\n",
    "            return True\n",
    "        else:\n",
    "            return False"
   ]
  },
  {
   "cell_type": "code",
   "execution_count": null,
   "metadata": {
    "collapsed": true
   },
   "outputs": [],
   "source": [
    "# 조별토론이후 문자열 슬라이싱을 이용한 예\n",
    "\n",
    "class Guess:\n",
    "\n",
    "    def __init__(self, word):\n",
    "        self.numTries = 0\n",
    "        self.guessedChars = []\n",
    "        self.secretWord = word\n",
    "        self.currentStatus = ''\n",
    "        for i in range(len(self.secretWord)):\n",
    "            self.currentStatus += '_'\n",
    "\n",
    "    def display(self):\n",
    "        print('Current: ' + self.currentStatus)\n",
    "        print('Tries: ' + str(self.numTries))\n",
    "\n",
    "    def guess(self, character):\n",
    "        character = character.lower()\n",
    "        self.guessedChars.append(character)\n",
    "        finished = False\n",
    "        if character in self.secretWord:\n",
    "            # For문을 돌며 슬라이싱을 이용하여 맞춘 글자에는 글자를 넣고 아니면 다시 '_' 를 넣는 형식\n",
    "            for i in range(len(self.secretWord)):\n",
    "                if self.secretWord[i] == character:\n",
    "                    self.currentStatus = self.currentStatus[:i] + character + self.currentStatus[i+1:]\n",
    "            if self.secretWord == self.currentStatus:\n",
    "                finished = True\n",
    "        else:\n",
    "            self.numTries += 1\n",
    "return finished"
   ]
  },
  {
   "cell_type": "code",
   "execution_count": null,
   "metadata": {
    "collapsed": true
   },
   "outputs": [],
   "source": [
    "# 조별토론이후 집합을 이용한 예\n",
    "\n",
    "class Guess:\n",
    "\n",
    "    def __init__(self, word):\n",
    "\n",
    "        self.secretWord = word\n",
    "        self.guessedChars = set() #집합 이용\n",
    "        self.numTries = 0\n",
    "        self.currentStatus = '_' * len(word)\n",
    "\n",
    "\n",
    "    def display(self):\n",
    "        print('Current : ' + self.currentStatus)\n",
    "        print('Tries : ' + str(self.numTries))\n",
    "\n",
    "    def guess(self, character):\n",
    "        #합집합을 이용하여 만일 똑같은 문자를 입력한다면 바로 걸러줌 \n",
    "        self.guessedChars = self.guessedChars.union({character})\n",
    "        if character not in self.secretWord:\n",
    "            self.numTries += 1\n",
    "            return  False\n",
    "        else:\n",
    "            currentStatus = ''\n",
    "            for i in self.secretWord:\n",
    "                if i in self.guessedChars:\n",
    "                    currentStatus += i\n",
    "                else:\n",
    "                    currentStatus += '_'\n",
    "            self.currentStatus = currentStatus\n",
    "        checker = None\n",
    "        if self.currentStatus == self.secretWord:\n",
    "            checker = True\n",
    "        else :\n",
    "            checker = False\n",
    "return checker"
   ]
  },
  {
   "cell_type": "markdown",
   "metadata": {},
   "source": [
    " 과제를 받고 리스트의 형태만 생각했었는데 집합으로는 합집합을 이용하여 바로 걸러낼 수 있다는 것을 보았고 또한 똑같은 리스트여도 다르게 표현이 될 수 있다는 것을 보았다. "
   ]
  }
 ],
 "metadata": {
  "kernelspec": {
   "display_name": "Python 3",
   "language": "python",
   "name": "python3"
  },
  "language_info": {
   "codemirror_mode": {
    "name": "ipython",
    "version": 3
   },
   "file_extension": ".py",
   "mimetype": "text/x-python",
   "name": "python",
   "nbconvert_exporter": "python",
   "pygments_lexer": "ipython3",
   "version": "3.6.1"
  }
 },
 "nbformat": 4,
 "nbformat_minor": 2
}
