{
 "cells": [
  {
   "cell_type": "markdown",
   "metadata": {},
   "source": [
    "Week5\n",
    "1) 피보나치 수열을 재귀적으로 구현\n",
    "2) 반복적으로 구현\n",
    "3) 시간 비교"
   ]
  },
  {
   "cell_type": "markdown",
   "metadata": {},
   "source": [
    "1) 재귀적으로 구현"
   ]
  },
  {
   "cell_type": "code",
   "execution_count": null,
   "metadata": {
    "collapsed": true
   },
   "outputs": [],
   "source": [
    "def fibo(n):\n",
    "    if n <= 1:\n",
    "        return n\n",
    "    return fibo(n - 1) + fibo(n - 2)"
   ]
  },
  {
   "cell_type": "markdown",
   "metadata": {},
   "source": [
    "2) 반복적으로 구현 (변수활용)\n",
    "- Fibonacci(0) = 0\n",
    "- Fibonacci(1) = 1\n",
    "- 피보나치는 0 과 1로 시작하며 다음 피보나치수는 앞의 두수의 합"
   ]
  },
  {
   "cell_type": "code",
   "execution_count": null,
   "metadata": {
    "collapsed": true
   },
   "outputs": [],
   "source": [
    "def iterfibo1(m):\n",
    "    a, b =0, 1\n",
    "        if m == 0 :\n",
    "                return a\n",
    "        else:\n",
    "                count = 2\n",
    "                while count <= m:\n",
    "                        a, b = b, a+b\n",
    "                        count +=1\n",
    "                return b"
   ]
  },
  {
   "cell_type": "markdown",
   "metadata": {},
   "source": [
    "3) 시간비교 \n",
    "- 시간을 비교했을때 재귀적함수보다는 반복적이 더 빠른 것을 알 수 있었다.\n",
    "\n",
    "# 결과값\n",
    "\n",
    "Enter a number: 2\n",
    "IterFibo(2)=1, time 0.000012\n",
    "Fibo(2)=1, time 0.000016\n",
    "Enter a number: 30\n",
    "IterFibo(30)=832040, time 0.000022\n",
    "Fibo(30)=832040, time 0.313616"
   ]
  },
  {
   "cell_type": "markdown",
   "metadata": {},
   "source": [
    "코드리뷰 수업시간 이후"
   ]
  },
  {
   "cell_type": "markdown",
   "metadata": {},
   "source": [
    "- 리스트를 이용한 반복적인 구현"
   ]
  },
  {
   "cell_type": "code",
   "execution_count": null,
   "metadata": {
    "collapsed": true
   },
   "outputs": [],
   "source": [
    "def iterfibo(nbr) :\n",
    "    iterfibo_list = []\n",
    "    for i in range(0,nbr+1) :\n",
    "        if i ==0 or i == 1 :\n",
    "            iterfibo_list.append(i)\n",
    "            idx = i\n",
    "        else :\n",
    "            iterfibo_list.append(int(iterfibo_list[i-2]+iterfibo_list[i-1]))\n",
    "            idx = i\n",
    "    return iterfibo_list[idx]"
   ]
  },
  {
   "cell_type": "markdown",
   "metadata": {},
   "source": [
    "- 리스트와 변수를 이용하여 구현"
   ]
  },
  {
   "cell_type": "code",
   "execution_count": null,
   "metadata": {
    "collapsed": true
   },
   "outputs": [],
   "source": [
    "def iterfibo3(n): \n",
    "        if n == 0:\n",
    "            return 0\n",
    "        elif n == 1:\n",
    "            return 1\n",
    "        a = [1]\n",
    "        for i in range(n):\n",
    "            try:\n",
    "                    a[2] = a[0] + a[1]\n",
    "                    a[0] = a[1]\n",
    "                    a[1] = a[2]\n",
    "            except:\n",
    "                    a.append(1)\n",
    "return a[2]"
   ]
  },
  {
   "cell_type": "markdown",
   "metadata": {},
   "source": [
    "# 결과\n",
    "\n",
    "기대하는 값은 리스트와 변수를 이용하여 구현하는 것이 제일 빠를 것이라고 생각을 했다.\n",
    "그렇지만 값이 변할 때마다 시간속도 차이도 항상 달랐으며 더 많이 반복을 하는 경우에도 시간이 더 줄어드는 경우가 있었다. 이거에 대한 문제는 잘 모르겠다.."
   ]
  }
 ],
 "metadata": {
  "kernelspec": {
   "display_name": "Python 3",
   "language": "python",
   "name": "python3"
  },
  "language_info": {
   "codemirror_mode": {
    "name": "ipython",
    "version": 3
   },
   "file_extension": ".py",
   "mimetype": "text/x-python",
   "name": "python",
   "nbconvert_exporter": "python",
   "pygments_lexer": "ipython3",
   "version": "3.6.1"
  }
 },
 "nbformat": 4,
 "nbformat_minor": 2
}
