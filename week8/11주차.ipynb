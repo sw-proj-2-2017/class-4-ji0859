{
 "cells": [
  {
   "cell_type": "markdown",
   "metadata": {},
   "source": [
    "# 8주차 숙제\n",
    "\n",
    "불필요한 반복의 코드 줄이기\n",
    "오류의 발생 가능성 줄이기\n",
    "팩토리얼 -> 전의 과제를 import 하여 불러와서 사용하기"
   ]
  },
  {
   "cell_type": "markdown",
   "metadata": {},
   "source": [
    "처음 코드는 import 하여 팩토리얼을 구성하면 오류가 뜸"
   ]
  },
  {
   "cell_type": "code",
   "execution_count": null,
   "metadata": {
    "collapsed": true
   },
   "outputs": [],
   "source": [
    "# 처음 쓴 코드\n",
    "def buttonClicked(self):\n",
    "    if self.display.text() == 'Error!':\n",
    "        self.display.setText('')\n",
    "\n",
    "    button = self.sender()\n",
    "    key = button.text()\n",
    "\n",
    "# 처음 n을 받을 때 아무것도 없어 valueError가 뜬다...! funtion1 호출 방법 아래 조원들을 통해 배움\n"
    "    n = self.display.text()\n",
    "# factorial import=>error\n",
    "    function1 = {'factorial (!)': str(fac(n)),\n",
    "                '-> binary': calcFunctions.decToBin(n),\n",
    "                'binary -> dec' :calcFunctions.binToDec(n),\n",
    "                '-> roman': calcFunctions.decToRoman(n)}\n",
    "    print(function1) \n",
    "\n",
    "    if key == '=':\n",
    "        try:\n",
    "            result = str(eval(self.display.text()))\n",
    "        except:\n",
    "            result = 'Error!'\n",
    "        self.display.setText(result)\n",
    "    elif key == 'C':\n",
    "        self.display.clear()\n",
    "    elif key in constant1:\n",
    "        self.display.setText(self.display.text() + constant1[key])\n",
    "    elif key in function1:\n",
    "        self.display.setText(function1[key])\n",
    "    else:\n",
    "        self.display.setText(self.display.text() + key)"
   ]
  },
  {
   "cell_type": "markdown",
   "metadata": {},
   "source": [
    "# 오류내용\n",
    "Traceback (most recent call last):\n",
    "  File \"mycalc10.py\", line 83, in buttonClicked\n",
    "    function1 = {'factorial (!)': str(fac(n)),\n",
    "  File \"/home/user/sw2/week11/week11/factorial.py\", line 3, in fac\n",
    "    a = int(n)\n",
    "ValueError: invalid literal for int() with base 10: ''\n",
    "중지됨 (core dumped)"
   ]
  },
  {
   "cell_type": "code",
   "execution_count": null,
   "metadata": {
    "collapsed": true
   },
   "outputs": [],
   "source": [
    "#factorial 함수의 내용\n",
    "def fac(n):\n",
    "    factorial = 1\n",
    "    a = int(n)\n",
    "    for i in range(a, 0, -1):\n",
    "        factorial *= i\n",
    "    return factorial\n"
   ]
  },
  {
   "cell_type": "markdown",
   "metadata": {},
   "source": [
    "안되는 이유를 조별토론시간에 조원에게 물어봤으나 해결책을 찾지 못함\n",
    "그러나 이 코드에서는 실행이 됨"
   ]
  },
  {
   "cell_type": "code",
   "execution_count": null,
   "metadata": {
    "collapsed": true
   },
   "outputs": [],
   "source": [
    "def buttonClicked(self):\n",
    "    if self.display.text() == 'Error!':\n",
    "        self.display.setText('')\n",
    "\n",
    "    button = self.sender()\n",
    "    key = button.text()\n",
    "    \n",
    "    if key == '=':\n",
    "        try:\n",
    "            result = str(eval(self.display.text()))\n",
    "        except:\n",
    "            result = 'Error!'\n",
    "        self.display.setText(result)\n",
    "    elif key == 'C':\n",
    "        self.display.clear()\n",
    "    elif key in constant1:\n",
    "        self.display.setText(self.display.text() + constant1[key])\n",
    "    elif key == functionList[0]:\n",
    "        n = self.display.text()\n",
    "        self.display.setText(str(fac(n)))\n",
    "    elif key == functionList[1]:\n",
    "        n = self.display.text()\n",
    "        value = calcFunctions.decToBin(n)\n",
    "        self.display.setText(str(value))\n",
    "    elif key == functionList[2]:\n",
    "        n = self.display.text()\n",
    "        value = calcFunctions.binToDec(n)\n",
    "        self.display.setText(str(value))\n",
    "    elif key == functionList[3]:\n",
    "        n = self.display.text()\n",
    "        value = calcFunctions.decToRoman(n)\n",
    "        self.display.setText(str(value))\n",
    "    else:\n",
    "        self.display.setText(self.display.text() + key)"
   ]
  },
  {
   "cell_type": "markdown",
   "metadata": {},
   "source": [
    "이유를 모르겠어요....ㅜㅡㅜㅜㅜㅜㅜㅜㅜㅜ\n",
    "조별토론을 하고 배운점\n",
    "function1 을 keypad 안에 만들고 이렇게 부르면 n을 미리 지정안해줘도 코드가 실행됨"
   ]
  },
  {
   "cell_type": "code",
   "execution_count": null,
   "metadata": {
    "collapsed": true
   },
   "outputs": [],
   "source": [
    "elif key in functionList:\n",
    "    self.display.setText(functionList[key](self.display.text()))"
   ]
  },
  {
   "cell_type": "markdown",
   "metadata": {
    "collapsed": true
   },
   "source": [
    "이 외에는 조원들과의 코드가 거의 비슷했으며 정말로 이학기 초반보다 내가 실력이 늘고 있는 것을 \n",
    "실감하여 너무 기분이 좋지만 아직 갈 길이 멀고 조별토론과 발표를 통해 다른 코드를 보고 배우는게 \n",
    "너무 흥미가 느껴지게 되었다. 결국 코드는 계산기함수를 불러서 사용한\n",
    "## calcFunction.factorial(n)\n",
    "을 사용하여 완성하게 되었다"
   ]
  }
 ],
 "metadata": {
  "kernelspec": {
   "display_name": "Python 3",
   "language": "python",
   "name": "python3"
  },
  "language_info": {
   "codemirror_mode": {
    "name": "ipython",
    "version": 3
   },
   "file_extension": ".py",
   "mimetype": "text/x-python",
   "name": "python",
   "nbconvert_exporter": "python",
   "pygments_lexer": "ipython3",
   "version": "3.6.1"
  }
 },
 "nbformat": 4,
 "nbformat_minor": 2
}
