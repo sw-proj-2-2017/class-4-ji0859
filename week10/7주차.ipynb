{
 "cells": [
  {
   "cell_type": "markdown",
   "metadata": {},
   "source": [
    "# 7주차 숙제\n",
    "\n",
    "버튼이 눌려지면 창에 입력되는 기능 구현\n",
    "버튼 생성 코드 반복 줄이기\n",
    "버튼 배치 코드 반복 줄이기\n",
    "\n",
    "처음 올린 코드\n"
   ]
  },
  {
   "cell_type": "code",
   "execution_count": null,
   "metadata": {
    "collapsed": true
   },
   "outputs": [],
   "source": [
    "# 버튼 생성 코드 줄이기기\n",
    "# 버튼이 눌렸을 때 연결하는 코드 작성\n",
    "for i in range(10):\n",
    "    self.digitButton[i] = Button(str(i))\n",
    "    self.digitButton[i].clicked.connect(self.buttonClicked)"
   ]
  },
  {
   "cell_type": "code",
   "execution_count": null,
   "metadata": {
    "collapsed": true
   },
   "outputs": [],
   "source": [
    "# 버튼이 눌렸을 때 연결 코드를 하나씩 다 작성함\n",
    "# . and = Buttons\n",
    "    self.decButton = Button('.')\n",
    "    self.eqButton = Button('=')\n",
    "    self.decButton.clicked.connect(self.buttonClicked)\n",
    "    self.eqButton.clicked.connect(self.buttonClicked)\n",
    "# Operator Buttons\n",
    "    self.mulButton = Button('*')\n",
    "    self.divButton = Button('/')\n",
    "    self.addButton = Button('+')\n",
    "    self.subButton = Button('-')\n",
    "    self.mulButton.clicked.connect(self.buttonClicked)\n",
    "    self.divButton.clicked.connect(self.buttonClicked)\n",
    "    self.addButton.clicked.connect(self.buttonClicked)\n",
    "    self.subButton.clicked.connect(self.buttonClicked)\n",
    "\n",
    "# Parentheses Buttons\n",
    "    self.lparButton = Button('(')\n",
    "    self.rparButton = Button(')')\n",
    "    self.lparButton.clicked.connect(self.buttonClicked)\n",
    "    self.rparButton.clicked.connect(self.buttonClicked)\n",
    "# Clear Button\n",
    "    self.clearButton = Button('C')\n",
    "    self.clearButton.clicked.connect(self.buttonClicked)"
   ]
  },
  {
   "cell_type": "code",
   "execution_count": null,
   "metadata": {
    "collapsed": true
   },
   "outputs": [],
   "source": [
    "# 버튼 배치 코드 줄이기\n",
    "j = 3\n",
    "        for i in range(10):\n",
    "            numLayout.addWidget(self.digitButton[i], j, (i-1)%3)\n",
    "            if (i)% 3 == 0:\n",
    "                j -=1\n",
    "            else:\n",
    "                j+0"
   ]
  },
  {
   "cell_type": "code",
   "execution_count": null,
   "metadata": {
    "collapsed": true
   },
   "outputs": [],
   "source": [
    "# 버튼이 눌렸을 때 \n",
    "\n",
    "def buttonClicked(self):\n",
    "    sender = self.sender()\n",
    "    self.doButton(sender.text())\n",
    "\n",
    "def doButton(self, order):\n",
    "\n",
    "    if order != '=':\n",
    "        if order == 'C':\n",
    "            self.txt = \"\"\n",
    "            self.display.setText(self.txt)\n",
    "\n",
    "        else:\n",
    "            self.txt += order\n",
    "            self.display.setText(self.txt)\n",
    "    else:\n",
    "        self.txt = str(eval(self.txt))\n",
    "        self.display.setText(self.txt)"
   ]
  },
  {
   "cell_type": "markdown",
   "metadata": {},
   "source": [
    "#조별토론이후 바뀐점\n",
    "1. 버튼 배치 코드 줄이는 것\n",
    " -더 간단하게 줄일 수 있으며 변수를 하나 더 추가 안해도 됨\n",
    "2. 버튼이 눌렸을 때 코드를 줄일 수 있음"
   ]
  },
  {
   "cell_type": "code",
   "execution_count": null,
   "metadata": {
    "collapsed": true
   },
   "outputs": [],
   "source": [
    "# 1\n",
    "for i in range(1, 10):\n",
    "    numLayout.addWidget(self.digitButton[i], int((9-i)/3), (i+2)%3)"
   ]
  },
  {
   "cell_type": "code",
   "execution_count": null,
   "metadata": {
    "collapsed": true
   },
   "outputs": [],
   "source": [
    "# 2\n",
    "# \n",
    "if order == '=':\n",
    "    self.txt = str(eval(self.txt))\n",
    "    self.display.setText(self.txt)\n",
    "else:\n",
    "    if order == 'C':\n",
    "        self.display.setText('')\n",
    "    else:\n",
    "        self.txt += order\n",
    "        self.display.setText(self.txt)"
   ]
  },
  {
   "cell_type": "markdown",
   "metadata": {},
   "source": [
    "조원을 통해 새롭게 알게 된 점\n",
    "- for문을 zip을 이용하여 한번에 사용\n",
    "- *position, this.position 과 비슷\n",
    "- 버튼 배치를 리스트를 사용해 작성할 수 있다는 점"
   ]
  },
  {
   "cell_type": "code",
   "execution_count": null,
   "metadata": {
    "collapsed": true
   },
   "outputs": [],
   "source": [
    "names = [\n",
    "        '7', '8', '9', '*','/',\n",
    "        '4', '5', '6', '+','-',\n",
    "        '1', '2', '3', '(',')',\n",
    "        '0', '.', '=', 'C',   \n",
    "]\n",
    "positions = [(i+1, j) for i in range(4)for j in range(5)]\n",
    "for position, name in zip(positions, names):\n",
    "    button = QPushButton(name)\n",
    "    button.clicked.connect(self.buttonClicked)\n",
    "    grid.addWidget(button,*position)"
   ]
  },
  {
   "cell_type": "markdown",
   "metadata": {},
   "source": [
    "#보완하고 싶은 점\n",
    "1. 버튼이 눌리고 계산값이 나왔을 때 다른 숫자 버튼을 누르면 숫자가 이어지지 않고 나오는 방법\n",
    "2. 버튼이 눌렸을 때의 코드를 줄이고 싶다\n",
    "\n",
    "그러나 아직 해결을 못하겠다.."
   ]
  }
 ],
 "metadata": {
  "kernelspec": {
   "display_name": "Python 3",
   "language": "python",
   "name": "python3"
  },
  "language_info": {
   "codemirror_mode": {
    "name": "ipython",
    "version": 3
   },
   "file_extension": ".py",
   "mimetype": "text/x-python",
   "name": "python",
   "nbconvert_exporter": "python",
   "pygments_lexer": "ipython3",
   "version": "3.6.1"
  }
 },
 "nbformat": 4,
 "nbformat_minor": 2
}
