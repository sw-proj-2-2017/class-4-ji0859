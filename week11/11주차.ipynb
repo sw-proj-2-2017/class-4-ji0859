{
 "cells": [
  {
   "cell_type": "markdown",
   "metadata": {},
   "source": [
    "# 11주차 숙제\n",
    "\n",
    "로마숫자 -> 10진수 변환 알고리즘 구현 \n",
    "\n",
    "코드내용"
   ]
  },
  {
   "cell_type": "markdown",
   "metadata": {},
   "source": [
    "코드를 하나 더 만들어서 import 하여 사용함!!\n",
    "\n",
    "10진수 -> 로마숫자\n",
    "리스트 내 튜플을 만들어 for문을 돌려 결과값에 추가하며 처음값에서 삭제\n",
    "예외처리를 통해 ValueError를 처리함\n",
    "\n",
    "로마숫자 -> 10진수 \n",
    "1. 처음에는 위에서 비슷하게 처리 하였으나 \" -= \" 부분에서 두개 모두 str일 경우 str -= str이 되지 않음\n",
    "2. find 를 사용하며 문자열을 지정하여 l = \"M,D,L....\"중 하나일 경우 if n.find(l) == 0:으로 처리하려고 하였으나 어떠한 수를 넣어도 3109가 뜸\n",
    "3. 인덱싱을 지우는 것만 생각하였으나 n = n[2:] 이라는 남겨서 지우는 법을 알게 되었다"
   ]
  },
  {
   "cell_type": "code",
   "execution_count": null,
   "metadata": {
    "collapsed": true
   },
   "outputs": [],
   "source": [
    "# 10진수 -> 로마숫자\n",
    "def decToRoman(n):\n",
    "    romans = [\n",
    "        (1000, 'M'), (900, 'CM'), (500, 'D'), (400, 'CD'),\n",
    "        (100, 'C'), (90, 'XC'), (50,'L'), (40, 'XL'),\n",
    "        (10, 'X'), (9, 'IX'), (5, \"V\"), (4, \"IV\"),\n",
    "        (1, \"I\")\n",
    "        ]\n",
    "    result = \"\"\n",
    "    ins = 0\n",
    "    try:\n",
    "        ins = int(n)\n",
    "    except ValueError:\n",
    "        pass\n",
    "        \n",
    "    for value,letters in romans:\n",
    "        while ins >= value:\n",
    "            result += letters\n",
    "            ins-= value\n",
    "    return result\n",
    "#로마숫자 -> 10진수\n",
    "def RomanTodec(n):\n",
    "    romans = {\n",
    "        'M' : 1000 ,'CM': 900 ,'D': 500 , 'CD':400,\n",
    "        'C' :100 ,'XC' :90, 'L': 50 , 'XL': 40,\n",
    "        'X' :10 ,'IX': 9, \"V\": 5, \"IV\": 4,\n",
    "        \"I\":1\n",
    "        }\n",
    "    inc = 0\n",
    "    result = 0\n",
    "    la = len(n)\n",
    "    while la != 0: \n",
    "        if n[:2] in romans and inc == 0:\n",
    "            result += romans[n[:2]]\n",
    "            n = n[2:]\n",
    "            la -=2\n",
    "        if la >0:\n",
    "            if n[0] in romans and inc == 1:\n",
    "                result += romans[n[0]]\n",
    "                n = n[1:]\n",
    "                inc = 0\n",
    "                la -= 1\n",
    "        if inc == 2:\n",
    "            return \"Error\"\n",
    "        inc +=1        \n",
    "    return str(result)"
   ]
  },
  {
   "cell_type": "markdown",
   "metadata": {},
   "source": [
    "import 하여 코드에 추가한 방법"
   ]
  },
  {
   "cell_type": "code",
   "execution_count": null,
   "metadata": {
    "collapsed": true
   },
   "outputs": [],
   "source": [
    "# 앞에 모듈을 지정해주고 그 뒤 함수를 지정해줌\n",
    "function1 = {'factorial (!)': calcFunctions.factorial(n),\n",
    "                    '-> binary': calcFunctions.decToBin(n),\n",
    "                    'binary -> dec' :calcFunctions.binToDec(n),\n",
    "                    '-> roman': roman.decToRoman(n),\n",
    "                    'roman -> dec' : roman.RomanTodec(n)\n",
    "                     }\n"
   ]
  }
 ],
 "metadata": {
  "kernelspec": {
   "display_name": "Python 3",
   "language": "python",
   "name": "python3"
  },
  "language_info": {
   "codemirror_mode": {
    "name": "ipython",
    "version": 3
   },
   "file_extension": ".py",
   "mimetype": "text/x-python",
   "name": "python",
   "nbconvert_exporter": "python",
   "pygments_lexer": "ipython3",
   "version": "3.6.1"
  }
 },
 "nbformat": 4,
 "nbformat_minor": 2
}
